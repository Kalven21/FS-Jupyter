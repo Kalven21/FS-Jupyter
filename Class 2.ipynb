{
 "cells": [
  {
   "cell_type": "markdown",
   "id": "3a6bb2b0-f106-4048-9ae9-30b38a45cd00",
   "metadata": {},
   "source": [
    "# Data Structures\n",
    "\n",
    "Today, we will start by introducing our first data structures:\n",
    "1. Stacks\n",
    "2. Queues"
   ]
  },
  {
   "cell_type": "code",
   "execution_count": 2,
   "id": "028dd122-6cd0-4b26-88ca-db2054c56be6",
   "metadata": {},
   "outputs": [],
   "source": [
    "# Simplified implementation of Stack (relying on built-ins)\n",
    "# Intended to familiarize with the basics\n",
    "\n",
    "class Stack:\n",
    "    def __init__(self):\n",
    "        self.items = []\n",
    "\n",
    "    def push(self, value):\n",
    "        self.items.append(value)\n",
    "\n",
    "    def pop(self):\n",
    "        return self.items.pop()\n",
    "\n",
    "    # Nice to have methods:\n",
    "    def size(self):\n",
    "        return len(self.items)\n",
    "\n",
    "    def peek(self):\n",
    "        return self.items[len(self.items)-1]\n",
    "\n",
    "    def is_empty(self):\n",
    "        return self.items == []"
   ]
  },
  {
   "cell_type": "code",
   "execution_count": 5,
   "id": "950256c7-4387-4ada-8aea-ed7fff9da5c2",
   "metadata": {},
   "outputs": [
    {
     "data": {
      "text/plain": [
       "'niveK'"
      ]
     },
     "execution_count": 5,
     "metadata": {},
     "output_type": "execute_result"
    }
   ],
   "source": [
    "# This function uses the Stack class above to invert a string:\n",
    "\n",
    "def invert_str(mystring):\n",
    "    stack = Stack() # this is called instantiation or creating an instance of a class\n",
    "    for char in mystring:\n",
    "        stack.push(char)\n",
    "    out = \"\"\n",
    "    while not stack.is_empty():\n",
    "        out += stack.pop()\n",
    "\n",
    "    return out\n",
    "\n",
    "# Test:\n",
    "invert_str(\"Kevin\")"
   ]
  },
  {
   "cell_type": "code",
   "execution_count": 3,
   "id": "efe7102a-c062-4187-afa1-cace7fd62679",
   "metadata": {},
   "outputs": [],
   "source": [
    "# From scratch implemention of Stack (not using built-ins)\n",
    "\n",
    "class StackII:\n",
    "    class __Node:\n",
    "        def __init__(self, data):\n",
    "            self.data = data\n",
    "            self.below = None\n",
    "\n",
    "    def __init__(self):\n",
    "        self.top = None\n",
    "        \n",
    "    def push(self, value):\n",
    "        new_node = self.__Node(value)\n",
    "        if not self.top:\n",
    "            self.top = new_node\n",
    "        else:\n",
    "            new_node.below = self.top\n",
    "            self.top = new_node\n",
    "\n",
    "    def pop(self):\n",
    "        if self.top:\n",
    "            datum = self.top.data\n",
    "            self.top = self.top.below\n",
    "            return datum\n",
    "        raise IndexError(\"Stack is empty!\")\n",
    "\n",
    "    # Nice to have methods\n",
    "    def size(self):\n",
    "        if self.is_empty():\n",
    "            return 0\n",
    "        num_nodes = 0\n",
    "        current_node = self.top\n",
    "        while current_node:\n",
    "            num_nodes += 1\n",
    "            current_node = current_node.below\n",
    "        return num_nodes\n",
    "\n",
    "    def peek(self):\n",
    "        if len(self) == 0:\n",
    "            raise IndexError (\"The stack is empty\")\n",
    "        return self.top.data\n",
    "\n",
    "    def is_empyt(self):\n",
    "        if not self.top:\n",
    "            return True\n",
    "        else:\n",
    "            return False"
   ]
  },
  {
   "cell_type": "code",
   "execution_count": 10,
   "id": "ef9678c9-a5dd-43d0-a3ad-ad20fe144863",
   "metadata": {},
   "outputs": [
    {
     "name": "stdout",
     "output_type": "stream",
     "text": [
      "3\n",
      "1\n",
      "1\n",
      "2\n",
      "False\n"
     ]
    }
   ],
   "source": [
    "class QueueII:\n",
    "    def __init__(self):\n",
    "        self.items = []\n",
    "\n",
    "    def enqueue(self, value):\n",
    "        # Add the new item to the end of the list\n",
    "        self.items.append(value)\n",
    "\n",
    "    def dequeue(self):\n",
    "        if self.is_empty():\n",
    "            raise IndexError(\"Queue is empty!\")\n",
    "        # Remove and return the item from the front of the list\n",
    "        return self.items.pop(0)\n",
    "\n",
    "    def size(self):\n",
    "        return len(self.items)\n",
    "\n",
    "    def peek(self):\n",
    "        if self.is_empty():\n",
    "            raise IndexError(\"Queue is empty!\")\n",
    "        # Return the item at the front of the list without removing it\n",
    "        return self.items[0]\n",
    "\n",
    "    def is_empty(self):\n",
    "        return len(self.items) == 0\n",
    "\n",
    "# Examples:\n",
    "queue = Queue()\n",
    "queue.enqueue(1)\n",
    "queue.enqueue(2)\n",
    "queue.enqueue(3)\n",
    "print(queue.size())\n",
    "print(queue.peek())\n",
    "print(queue.dequeue())\n",
    "print(queue.size())\n",
    "print(queue.is_empty())"
   ]
  },
  {
   "cell_type": "code",
   "execution_count": null,
   "id": "b73f9b78-16e1-4a98-bc76-c8f31aceef08",
   "metadata": {},
   "outputs": [],
   "source": []
  }
 ],
 "metadata": {
  "kernelspec": {
   "display_name": "Python 3 (ipykernel)",
   "language": "python",
   "name": "python3"
  },
  "language_info": {
   "codemirror_mode": {
    "name": "ipython",
    "version": 3
   },
   "file_extension": ".py",
   "mimetype": "text/x-python",
   "name": "python",
   "nbconvert_exporter": "python",
   "pygments_lexer": "ipython3",
   "version": "3.10.12"
  }
 },
 "nbformat": 4,
 "nbformat_minor": 5
}
