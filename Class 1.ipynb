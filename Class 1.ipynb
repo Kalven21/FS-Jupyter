{
 "cells": [
  {
   "cell_type": "code",
   "execution_count": 1,
   "id": "285640f6-3504-41b0-b110-cbc9d9d035d0",
   "metadata": {},
   "outputs": [
    {
     "name": "stdout",
     "output_type": "stream",
     "text": [
      "h\n",
      "e\n",
      "l\n",
      "l\n",
      "o\n",
      ",\n",
      " \n",
      "w\n",
      "o\n",
      "r\n",
      "l\n",
      "d\n",
      "!\n"
     ]
    }
   ],
   "source": [
    "for char in \"hello, world!\":\n",
    "    print(char)\n",
    "\n",
    "# after typing this, press shift+enter\n"
   ]
  },
  {
   "cell_type": "markdown",
   "id": "31245652-0d83-4d63-9161-e7cc3a37f4c6",
   "metadata": {},
   "source": [
    "# Problem 1\n",
    "## Anagram Check\n",
    "Create a function, called `anagram_check` that takes two strings as parameters and returns True if these arer anagrams of each other, and False otherwise.\n",
    "\n",
    "### Criteria\n",
    "Two strings are said to be *anagrams* of each other if all the criteria bellos are met:\n",
    "1. They must contain the same amount of letters.\n",
    "2. They must use the same letters the same amount of times.\n",
    "\n",
    "### Examples\n",
    "```\n",
    "heart and earth\n",
    "scar and cars\n",
    "rats and star\n",
    "aabb and baba\n",
    "```"
   ]
  },
  {
   "cell_type": "code",
   "execution_count": 5,
   "id": "dc96c6bc-fd4e-4770-960a-b51fcc2323a1",
   "metadata": {},
   "outputs": [],
   "source": [
    "# Don't do this!\n",
    "def anagram_check(string1, string2):\n",
    "    return sorted(string1) == (string2)"
   ]
  },
  {
   "cell_type": "markdown",
   "id": "b552232d-0764-4d16-9597-c49efc87c52a",
   "metadata": {},
   "source": [
    "\n",
    "# Pseudocode for problem 1 (one possible solution)\n",
    "```\n",
    "define function \"anagram_check\" which receives string1 and strign2 as parameters:\n",
    "    string1 = strin1 without spaces and in lower case\n",
    "    string2 = string2 without spaces and in lower case\n",
    "    if string1 and string2 are not equal length:\n",
    "        return false\n",
    "    dict1 = new dictionary\n",
    "    dict2 = new dictionaty\n",
    "    for each \"number\" in the range between 0 andd the length of string1:\n",
    "        if the character at position \"number\" in string 1 is in dict1:\n",
    "            add 1 to the value associated with that character # this reprepsents how many time we've seen that character\n",
    "        else:\n",
    "            create a new dictionary entry with the character at position \"number\" setting its value to 1\n",
    "        if the character at position \"number\" in string2 is in dict2:\n",
    "            add 1 to the value associated with that character # this reprepsents how many time we've seen that character\n",
    "        else:\n",
    "            create a new dictionary entry with the character at position \"number\" setting its value to 1\n",
    "    if dict1 is equal to dict 2:\n",
    "        return True\n",
    "    otherwise:\n",
    "        return False\n",
    "```"
   ]
  },
  {
   "cell_type": "code",
   "execution_count": 13,
   "id": "7d2dc35b-ee0f-474b-bb65-297bcf8a2de9",
   "metadata": {},
   "outputs": [
    {
     "name": "stdout",
     "output_type": "stream",
     "text": [
      "True\n",
      "True\n"
     ]
    }
   ],
   "source": [
    "def anagram_check(string1, string2):\n",
    "    string1 = string1.replace(\" \", \"\").lower()\n",
    "    string2 = string2.replace(\" \", \"\").lower()\n",
    "    \n",
    "    if len(string1) != len(string2):\n",
    "        return False\n",
    "    \n",
    "    dict1 = {}\n",
    "    dict2 = {}\n",
    "    \n",
    "    for num in range(len(string1)):\n",
    "        str1 = string1[num] \n",
    "        str2 = string2[num]\n",
    "\n",
    "        if str1 in dict1:\n",
    "            dict1[str1] += 1\n",
    "        else:\n",
    "            dict1[str1] = 1\n",
    "\n",
    "        if str2 in dict2:\n",
    "            dict2[str2] += 1\n",
    "        else:\n",
    "            dict2[str2] = 1\n",
    "\n",
    "    if dict1 == dict2:\n",
    "        return True\n",
    "        \n",
    "    else:\n",
    "        return False\n",
    "\n",
    "print(anagram_check(\"Tom Marvolo Riddle\",\"i am Lord Voldemort\"))\n",
    "print(anagram_check(\"heart\",\"eatrh\"))"
   ]
  },
  {
   "cell_type": "code",
   "execution_count": null,
   "id": "5b83db6d-d552-4e03-8454-2787559def9a",
   "metadata": {},
   "outputs": [],
   "source": []
  }
 ],
 "metadata": {
  "kernelspec": {
   "display_name": "Python 3 (ipykernel)",
   "language": "python",
   "name": "python3"
  },
  "language_info": {
   "codemirror_mode": {
    "name": "ipython",
    "version": 3
   },
   "file_extension": ".py",
   "mimetype": "text/x-python",
   "name": "python",
   "nbconvert_exporter": "python",
   "pygments_lexer": "ipython3",
   "version": "3.10.12"
  }
 },
 "nbformat": 4,
 "nbformat_minor": 5
}
