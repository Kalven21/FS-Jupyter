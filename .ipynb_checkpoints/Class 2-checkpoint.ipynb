{
 "cells": [
  {
   "cell_type": "markdown",
   "id": "3a6bb2b0-f106-4048-9ae9-30b38a45cd00",
   "metadata": {},
   "source": [
    "# Data Structures\n",
    "\n",
    "Today, we will start by introducing our first data structures:\n",
    "1. Stacks\n",
    "2. Queues"
   ]
  },
  {
   "cell_type": "code",
   "execution_count": 2,
   "id": "028dd122-6cd0-4b26-88ca-db2054c56be6",
   "metadata": {},
   "outputs": [],
   "source": [
    "# Simplified implementation of Stack (relying on built-ins)\n",
    "# Intended to familiarize with the basics\n",
    "\n",
    "class Stack:\n",
    "    def __init__(self):\n",
    "        self.items = []\n",
    "\n",
    "    def push(self, value):\n",
    "        self.items.append(value)\n",
    "\n",
    "    def pop(self):\n",
    "        return self.items.pop()\n",
    "\n",
    "    # Nice to have methods:\n",
    "    def size(self):\n",
    "        return len(self.items)\n",
    "\n",
    "    def peek(self):\n",
    "        return self.items[len(self.items)-1]\n",
    "\n",
    "    def is_empty(self):\n",
    "        return self.items == []"
   ]
  },
  {
   "cell_type": "code",
   "execution_count": 5,
   "id": "950256c7-4387-4ada-8aea-ed7fff9da5c2",
   "metadata": {},
   "outputs": [
    {
     "data": {
      "text/plain": [
       "'niveK'"
      ]
     },
     "execution_count": 5,
     "metadata": {},
     "output_type": "execute_result"
    }
   ],
   "source": [
    "# This function uses the Stack class above to invert a string:\n",
    "\n",
    "def invert_str(mystring):\n",
    "    stack = Stack() # this is called instantiation or creating an instance of a class\n",
    "    for char in mystring:\n",
    "        stack.push(char)\n",
    "    out = \"\"\n",
    "    while not stack.is_empty():\n",
    "        out += stack.pop()\n",
    "\n",
    "    return out\n",
    "\n",
    "# Test:\n",
    "invert_str(\"Kevin\")"
   ]
  },
  {
   "cell_type": "code",
   "execution_count": 10,
   "id": "ef9678c9-a5dd-43d0-a3ad-ad20fe144863",
   "metadata": {},
   "outputs": [
    {
     "name": "stdout",
     "output_type": "stream",
     "text": [
      "3\n",
      "1\n",
      "1\n",
      "2\n",
      "False\n"
     ]
    }
   ],
   "source": [
    "class QueueII:\n",
    "    def __init__(self):\n",
    "        self.items = []\n",
    "\n",
    "    def enqueue(self, value):\n",
    "        self.items.append(value)\n",
    "\n",
    "    def dequeue(self):\n",
    "        if self.is_empty():\n",
    "            raise IndexError(\"Queue is empty!\")\n",
    "        return self.items.pop(0)\n",
    "\n",
    "    def size(self):\n",
    "        return len(self.items)\n",
    "\n",
    "    def peek(self):\n",
    "        if self.is_empty():\n",
    "            raise IndexError(\"Queue is empty!\")\n",
    "        return self.items[0]\n",
    "\n",
    "    def is_empty(self):\n",
    "        return len(self.items) == 0\n",
    "\n",
    "# Examples:\n",
    "queue = Queue()\n",
    "queue.enqueue(1)\n",
    "queue.enqueue(2)\n",
    "queue.enqueue(3)\n",
    "print(queue.size())\n",
    "print(queue.peek())\n",
    "print(queue.dequeue())\n",
    "print(queue.size())\n",
    "print(queue.is_empty())"
   ]
  },
  {
   "cell_type": "code",
   "execution_count": null,
   "id": "b73f9b78-16e1-4a98-bc76-c8f31aceef08",
   "metadata": {},
   "outputs": [],
   "source": []
  }
 ],
 "metadata": {
  "kernelspec": {
   "display_name": "Python 3 (ipykernel)",
   "language": "python",
   "name": "python3"
  },
  "language_info": {
   "codemirror_mode": {
    "name": "ipython",
    "version": 3
   },
   "file_extension": ".py",
   "mimetype": "text/x-python",
   "name": "python",
   "nbconvert_exporter": "python",
   "pygments_lexer": "ipython3",
   "version": "3.10.12"
  }
 },
 "nbformat": 4,
 "nbformat_minor": 5
}
