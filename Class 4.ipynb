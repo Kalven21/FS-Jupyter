{
 "cells": [
  {
   "cell_type": "markdown",
   "id": "f5168368-301b-4ea8-9693-3bf3cd0de73e",
   "metadata": {},
   "source": [
    "# Doubly Linked List"
   ]
  },
  {
   "cell_type": "code",
   "execution_count": 1,
   "id": "a07d0478-dfee-4363-82d5-f64a1b71a08f",
   "metadata": {},
   "outputs": [
    {
     "name": "stdout",
     "output_type": "stream",
     "text": [
      "Help on list object:\n",
      "\n",
      "class list(object)\n",
      " |  list(iterable=(), /)\n",
      " |  \n",
      " |  Built-in mutable sequence.\n",
      " |  \n",
      " |  If no argument is given, the constructor creates a new empty list.\n",
      " |  The argument must be an iterable if specified.\n",
      " |  \n",
      " |  Methods defined here:\n",
      " |  \n",
      " |  __add__(self, value, /)\n",
      " |      Return self+value.\n",
      " |  \n",
      " |  __contains__(self, key, /)\n",
      " |      Return key in self.\n",
      " |  \n",
      " |  __delitem__(self, key, /)\n",
      " |      Delete self[key].\n",
      " |  \n",
      " |  __eq__(self, value, /)\n",
      " |      Return self==value.\n",
      " |  \n",
      " |  __ge__(self, value, /)\n",
      " |      Return self>=value.\n",
      " |  \n",
      " |  __getattribute__(self, name, /)\n",
      " |      Return getattr(self, name).\n",
      " |  \n",
      " |  __getitem__(...)\n",
      " |      x.__getitem__(y) <==> x[y]\n",
      " |  \n",
      " |  __gt__(self, value, /)\n",
      " |      Return self>value.\n",
      " |  \n",
      " |  __iadd__(self, value, /)\n",
      " |      Implement self+=value.\n",
      " |  \n",
      " |  __imul__(self, value, /)\n",
      " |      Implement self*=value.\n",
      " |  \n",
      " |  __init__(self, /, *args, **kwargs)\n",
      " |      Initialize self.  See help(type(self)) for accurate signature.\n",
      " |  \n",
      " |  __iter__(self, /)\n",
      " |      Implement iter(self).\n",
      " |  \n",
      " |  __le__(self, value, /)\n",
      " |      Return self<=value.\n",
      " |  \n",
      " |  __len__(self, /)\n",
      " |      Return len(self).\n",
      " |  \n",
      " |  __lt__(self, value, /)\n",
      " |      Return self<value.\n",
      " |  \n",
      " |  __mul__(self, value, /)\n",
      " |      Return self*value.\n",
      " |  \n",
      " |  __ne__(self, value, /)\n",
      " |      Return self!=value.\n",
      " |  \n",
      " |  __repr__(self, /)\n",
      " |      Return repr(self).\n",
      " |  \n",
      " |  __reversed__(self, /)\n",
      " |      Return a reverse iterator over the list.\n",
      " |  \n",
      " |  __rmul__(self, value, /)\n",
      " |      Return value*self.\n",
      " |  \n",
      " |  __setitem__(self, key, value, /)\n",
      " |      Set self[key] to value.\n",
      " |  \n",
      " |  __sizeof__(self, /)\n",
      " |      Return the size of the list in memory, in bytes.\n",
      " |  \n",
      " |  append(self, object, /)\n",
      " |      Append object to the end of the list.\n",
      " |  \n",
      " |  clear(self, /)\n",
      " |      Remove all items from list.\n",
      " |  \n",
      " |  copy(self, /)\n",
      " |      Return a shallow copy of the list.\n",
      " |  \n",
      " |  count(self, value, /)\n",
      " |      Return number of occurrences of value.\n",
      " |  \n",
      " |  extend(self, iterable, /)\n",
      " |      Extend list by appending elements from the iterable.\n",
      " |  \n",
      " |  index(self, value, start=0, stop=9223372036854775807, /)\n",
      " |      Return first index of value.\n",
      " |      \n",
      " |      Raises ValueError if the value is not present.\n",
      " |  \n",
      " |  insert(self, index, object, /)\n",
      " |      Insert object before index.\n",
      " |  \n",
      " |  pop(self, index=-1, /)\n",
      " |      Remove and return item at index (default last).\n",
      " |      \n",
      " |      Raises IndexError if list is empty or index is out of range.\n",
      " |  \n",
      " |  remove(self, value, /)\n",
      " |      Remove first occurrence of value.\n",
      " |      \n",
      " |      Raises ValueError if the value is not present.\n",
      " |  \n",
      " |  reverse(self, /)\n",
      " |      Reverse *IN PLACE*.\n",
      " |  \n",
      " |  sort(self, /, *, key=None, reverse=False)\n",
      " |      Sort the list in ascending order and return None.\n",
      " |      \n",
      " |      The sort is in-place (i.e. the list itself is modified) and stable (i.e. the\n",
      " |      order of two equal elements is maintained).\n",
      " |      \n",
      " |      If a key function is given, apply it once to each list item and sort them,\n",
      " |      ascending or descending, according to their function values.\n",
      " |      \n",
      " |      The reverse flag can be set to sort in descending order.\n",
      " |  \n",
      " |  ----------------------------------------------------------------------\n",
      " |  Class methods defined here:\n",
      " |  \n",
      " |  __class_getitem__(...) from builtins.type\n",
      " |      See PEP 585\n",
      " |  \n",
      " |  ----------------------------------------------------------------------\n",
      " |  Static methods defined here:\n",
      " |  \n",
      " |  __new__(*args, **kwargs) from builtins.type\n",
      " |      Create and return a new object.  See help(type) for accurate signature.\n",
      " |  \n",
      " |  ----------------------------------------------------------------------\n",
      " |  Data and other attributes defined here:\n",
      " |  \n",
      " |  __hash__ = None\n",
      "\n"
     ]
    }
   ],
   "source": [
    "help([])"
   ]
  },
  {
   "cell_type": "markdown",
   "id": "4658861b-2dfb-46d8-95ea-4ddf852a9998",
   "metadata": {},
   "source": [
    "# Problem 1\n",
    "\n",
    "## Given what we learned on class 3, implement the Doubly Linked List class\n",
    "\n",
    "### Criteria\n",
    "1. The DoublyLinkedList class must have an embedded Node class.\n",
    "2. The append operation must be supported.\n",
    "3. The insert operation must be supported (remember, this inserts before a target index).\n",
    "4. The remove operation must be supported.\n",
    "5. The __str__ method must display the list exactly like pytjonlists are rendered.\n",
    "6. The index operation must be supported (first instance of value or ValueError if not found)."
   ]
  },
  {
   "cell_type": "code",
   "execution_count": 9,
   "id": "f5d438c7-aa5d-405c-9043-6048cc076300",
   "metadata": {},
   "outputs": [
    {
     "name": "stdout",
     "output_type": "stream",
     "text": [
      "[1, 2, 3]\n",
      "[1, 4, 2, 3]\n",
      "[1, 4, 3]\n",
      "1\n"
     ]
    }
   ],
   "source": [
    "class DoublyLinkedList:\n",
    "    class Node:\n",
    "        def __init__(self, data=None):\n",
    "            self.data = data\n",
    "            self.next = None\n",
    "            self.previous = None\n",
    "\n",
    "    def __init__(self):\n",
    "        self.head = None\n",
    "        self.last = None\n",
    "\n",
    "    def append(self, data):\n",
    "        new_node = self.Node(data)\n",
    "        \n",
    "        if self.head is None:\n",
    "            self.head = new_node\n",
    "            self.last = new_node\n",
    "        else:\n",
    "            new_node.previous = self.last\n",
    "            self.last.next = new_node\n",
    "            self.last = new_node\n",
    "\n",
    "    def insert(self, index, data):\n",
    "        \n",
    "        if index < 0:\n",
    "            raise IndexError(\"Index doesn't have bounds\")\n",
    "        new_node = self.Node(data)\n",
    "        \n",
    "        if self.head is None:\n",
    "            if index == 0:\n",
    "                self.head = new_node\n",
    "                self.last = new_node\n",
    "            else:\n",
    "                raise IndexError(\"Index doesn't have bounds\")\n",
    "        else:\n",
    "            current = self.head\n",
    "            i = 0\n",
    "            \n",
    "            while current is not None and i < index:\n",
    "                current = current.next\n",
    "                i += 1\n",
    "            if i == index:\n",
    "                if current is None:\n",
    "                    self.append(data)\n",
    "                else:\n",
    "                    if current.previous is not None:\n",
    "                        current.previous.next = new_node\n",
    "                    new_node.previous = current.previous\n",
    "                    new_node.next = current\n",
    "                    current.previous = new_node\n",
    "                    if current == self.head:\n",
    "                        self.head = new_node\n",
    "            \n",
    "            else:\n",
    "                raise IndexError(\"Index out of bounds\")\n",
    "\n",
    "    def remove(self, data):\n",
    "        current = self.head\n",
    "        while current is not None:\n",
    "            if current.data == data:\n",
    "                if current.previous is not None:\n",
    "                    current.previous.next = current.next\n",
    "                else:\n",
    "                    self.head = current.next\n",
    "                if current.next is not None:\n",
    "                    current.next.previous = current.previous\n",
    "                else:\n",
    "                    self.last = current.previous\n",
    "                return\n",
    "            current = current.next\n",
    "        raise ValueError(f\"{data} not found in list\")\n",
    "\n",
    "    def index(self, data):\n",
    "        current = self.head\n",
    "        i = 0\n",
    "        while current is not None:\n",
    "            if current.data == data:\n",
    "                return i\n",
    "            current = current.next\n",
    "            i += 1\n",
    "        raise ValueError(f\"{data} not found in list\")\n",
    "\n",
    "    def __str__(self):\n",
    "        result = []\n",
    "        current = self.head\n",
    "        while current is not None:\n",
    "            result.append(repr(current.data))\n",
    "            current = current.next\n",
    "        return '[' + ', '.join(result) + ']'\n",
    "\n",
    "# Examples:\n",
    "dll = DoublyLinkedList()\n",
    "dll.append(1)\n",
    "dll.append(2)\n",
    "dll.append(3)\n",
    "print(dll)\n",
    "dll.insert(1,4)\n",
    "print(dll)\n",
    "dll.remove(2)\n",
    "print(dll)\n",
    "print(dll.index(4))"
   ]
  },
  {
   "cell_type": "markdown",
   "id": "8d7b2a3d-f858-40bc-95db-2281445f1182",
   "metadata": {},
   "source": [
    "# Recursive functions\n",
    "\n",
    "A recursive function is a function that calls itself at least once.\n",
    "\n",
    "Usually, these will have exit conditions, ofthen known as their base case which represents what we know to be absolutely true about a problem."
   ]
  },
  {
   "cell_type": "code",
   "execution_count": 18,
   "id": "c6244902-5e73-4e26-9eae-feb277127fa7",
   "metadata": {},
   "outputs": [
    {
     "data": {
      "text/plain": [
       "120"
      ]
     },
     "execution_count": 18,
     "metadata": {},
     "output_type": "execute_result"
    }
   ],
   "source": [
    "# A simple example\n",
    "\n",
    "# The factorial of a numbebr, n , is the product of all prerceding numbers multiplied by each other.\n",
    "# Example: 5! = 5x4x3x2x1\n",
    "# Another way to represent that, which highlights its recursive nature is 5! = 5x4!\n",
    "\n",
    "# 0! = 1\n",
    "\n",
    "def fact(n):\n",
    "    if n ==0:           # base case -0 we know this is absolutely true\n",
    "        return 1\n",
    "    return n*fact (n-1) # recursive case -- the funtion calls tself when the base is not reached\n",
    "\n",
    "fact(5)"
   ]
  },
  {
   "cell_type": "code",
   "execution_count": 22,
   "id": "d3ad8159-bccc-40f7-910a-06735a716e88",
   "metadata": {},
   "outputs": [],
   "source": [
    "# A recursive function that presents problems to us\n",
    "\n",
    "0, 1, 1, 2, 3, 5, 8, 13, 21\n",
    "\n",
    "# Yes, that's nice but what is fibonacci if 50?\n",
    "\n",
    "# F0 = 0\n",
    "# F1 = 1\n",
    "# Fn = F(n-1) + F(n-2)\n",
    "\n",
    "# For this example, we'll make use of lru_cache imporve worst case time complexity to 0(n) from (nlogn)\n",
    "from functools import lru_cache\n",
    "\n",
    "@lru_cache\n",
    "def fib(n):\n",
    "    if n < 2:\n",
    "        return n\n",
    "    return fib(n-1) + fib(n-2)"
   ]
  },
  {
   "cell_type": "code",
   "execution_count": 25,
   "id": "649ed5d6-c93b-443a-a81b-68a0ad9d550e",
   "metadata": {},
   "outputs": [
    {
     "data": {
      "text/plain": [
       "139423224561697880139724382870407283950070256587697307264108962948325571622863290691557658876222521294125"
      ]
     },
     "execution_count": 25,
     "metadata": {},
     "output_type": "execute_result"
    }
   ],
   "source": [
    "fib(500)"
   ]
  },
  {
   "cell_type": "markdown",
   "id": "42d234f0-8dde-40b9-afe9-0a377fce5504",
   "metadata": {},
   "source": [
    "# Hash Tables\n",
    "A has table is a collection of items which are stored in such a way as to make it easier to find them later.\n",
    "\n",
    "## Criteria\n",
    "Each position in a hash table, typically referred to as `slots`, can hold an item and is named by an integer value starting at 0.\n",
    "\n",
    "## Example\n",
    "If we have a slot named 0, a slot named 1 and slot named 2, e can store data in these slost throgh the use of a `hashing function`.\n",
    "\n",
    "## Note\n",
    "Initially, hash table slots are `empty`."
   ]
  },
  {
   "cell_type": "code",
   "execution_count": 28,
   "id": "46a94f69-5878-42e1-9858-5ae17050f2fa",
   "metadata": {},
   "outputs": [
    {
     "name": "stdout",
     "output_type": "stream",
     "text": [
      "[None, None, None, None, None, None, None, None, None, None, None]\n"
     ]
    }
   ],
   "source": [
    "# Simple representation of 11 empty slots (0 to 10):\n",
    "mylist = [ None for number in range(11)]\n",
    "\n",
    "print(mylist)"
   ]
  },
  {
   "cell_type": "code",
   "execution_count": 29,
   "id": "bd0646c2-54f7-4eed-b8dd-ac2505f09122",
   "metadata": {},
   "outputs": [
    {
     "name": "stdout",
     "output_type": "stream",
     "text": [
      "1\n"
     ]
    }
   ],
   "source": [
    "remainder = 11%2\n",
    "\n",
    "print(remainder)"
   ]
  },
  {
   "cell_type": "code",
   "execution_count": 31,
   "id": "820f8d71-0f7e-4778-8dea-5a9af6a06a7f",
   "metadata": {},
   "outputs": [
    {
     "data": {
      "text/plain": [
       "221"
      ]
     },
     "execution_count": 31,
     "metadata": {},
     "output_type": "execute_result"
    }
   ],
   "source": [
    "# The folding method is a good way to meet the guidelines we mentioned which is:\n",
    "# It is easy to calculate, always gives us the same value and the output can be hased using modulo operator.\n",
    "# 436 555 4601\n",
    "\n",
    "mytuple = (43, 65, 66, 46 ,1)\n",
    "\n",
    "remainder = sum(mytuple)%11\n",
    "\n",
    "print(remainder)"
   ]
  },
  {
   "cell_type": "code",
   "execution_count": 32,
   "id": "c4c5db9d-e95a-4685-a51c-1173e024df24",
   "metadata": {},
   "outputs": [
    {
     "name": "stdout",
     "output_type": "stream",
     "text": [
      "1936\n",
      "5\n"
     ]
    }
   ],
   "source": [
    "square = 44**2\n",
    "\n",
    "print(square)\n",
    "print(93%11)"
   ]
  },
  {
   "cell_type": "markdown",
   "id": "132d744a-eb8b-41e7-af05-af4f6b30bdfe",
   "metadata": {},
   "source": [
    "# Hash functions\n",
    "```\n",
    "[ ITEM ] [ REMAINDER ] [ MID-SQUARE ]\n",
    "    54         10            03\n",
    "    26         04            07\n",
    "    77         00            04"
   ]
  },
  {
   "cell_type": "code",
   "execution_count": 33,
   "id": "b7eec373-e42b-4c7e-b252-b90e2b94b098",
   "metadata": {},
   "outputs": [
    {
     "name": "stdout",
     "output_type": "stream",
     "text": [
      "4\n"
     ]
    }
   ],
   "source": [
    "# What if we wanted to hash the string \"cat\"?\n",
    "cat_values = (ord(\"c\"), ord(\"a\"), ord(\"t\"))\n",
    "print(sum(cat_values)%11)"
   ]
  },
  {
   "cell_type": "code",
   "execution_count": 34,
   "id": "0bcca7b9-6b90-4691-a236-39a29fd81b63",
   "metadata": {},
   "outputs": [],
   "source": [
    "# Open addressing\n",
    "# Linear probing\n",
    "# Quadratic probing"
   ]
  },
  {
   "cell_type": "code",
   "execution_count": 39,
   "id": "017f8d5d-6e26-4b63-9a90-18389ab3fb24",
   "metadata": {},
   "outputs": [],
   "source": [
    "# HashTable example\n",
    "\n",
    "class HashTable:\n",
    "    def __init__(self, size):\n",
    "        self.size = size\n",
    "        self.slots = [None] * self.size\n",
    "        self.data = [None] * self.size\n",
    "\n",
    "    def put(self, key, data):\n",
    "        hashvalue = self.hashfunction(key, len(self.slots))\n",
    "\n",
    "        # If slots are empty:\n",
    "        if self.slots[hashvalue] == None:\n",
    "            self.slots[hashvalue] = key\n",
    "            self.data[hashvalue] = data\n",
    "\n",
    "        else:\n",
    "            if self.slots[hashvalue] == key:\n",
    "                self.data[hashvalue] = data\n",
    "            else:\n",
    "                nextslot = self.rehash(hashvalue, len(self.slots))\n",
    "                while self.slots[nextslot] != None and self.slots[nextslot] != key:\n",
    "                    nextslot = self.rehahs(nextslot,len(self.slots))\n",
    "                if self.slots[nextslot] == None:\n",
    "                    self.slots[nextslot] = key\n",
    "                    self.data[nextslot] = data\n",
    "                else:\n",
    "                    self.data = data\n",
    "\n",
    "    def hashfunction(self, key, size):\n",
    "        return key%size\n",
    "\n",
    "    def rehash(self, oldhash, size):\n",
    "        return (oldhash+1)%size\n",
    "\n",
    "    def get(self,key):\n",
    "        startslot = self.hashfunction(key, len(self.slots))\n",
    "        data = None\n",
    "        stop = False\n",
    "        found = False\n",
    "        position = startslot\n",
    "        while self.slots[position] != None and not found and not stop:\n",
    "            if self.slots[position] == key:\n",
    "                found = True\n",
    "                data = self.data[position]\n",
    "            else:\n",
    "                position = self.rehash(position, len(self.slots))\n",
    "                if position == starslot:\n",
    "                    stop = True\n",
    "            return data\n",
    "\n",
    "    def __getitem__(self, key):\n",
    "        return self.get(key)\n",
    "\n",
    "    def __setitem__(self, key, data):\n",
    "        self.put(key, data)"
   ]
  },
  {
   "cell_type": "code",
   "execution_count": null,
   "id": "797db4c1-7f28-4808-9fe0-1d9c3c2f7814",
   "metadata": {},
   "outputs": [],
   "source": []
  }
 ],
 "metadata": {
  "kernelspec": {
   "display_name": "Python 3 (ipykernel)",
   "language": "python",
   "name": "python3"
  },
  "language_info": {
   "codemirror_mode": {
    "name": "ipython",
    "version": 3
   },
   "file_extension": ".py",
   "mimetype": "text/x-python",
   "name": "python",
   "nbconvert_exporter": "python",
   "pygments_lexer": "ipython3",
   "version": "3.10.12"
  }
 },
 "nbformat": 4,
 "nbformat_minor": 5
}
